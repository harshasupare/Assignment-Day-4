{
 "cells": [
  {
   "cell_type": "code",
   "execution_count": 1,
   "metadata": {},
   "outputs": [
    {
     "name": "stdout",
     "output_type": "stream",
     "text": [
      "1.0.5\n"
     ]
    }
   ],
   "source": [
    "# importing pandas as pd \n",
    "import pandas as pd \n",
    "  \n",
    "# Check the version \n",
    "print(pd.__version__) \n"
   ]
  },
  {
   "cell_type": "code",
   "execution_count": 2,
   "metadata": {},
   "outputs": [
    {
     "name": "stdout",
     "output_type": "stream",
     "text": [
      "0     G\n",
      "1     E\n",
      "2     E\n",
      "3     K\n",
      "4     S\n",
      "5     F\n",
      "6     O\n",
      "7     R\n",
      "8     G\n",
      "9     E\n",
      "10    E\n",
      "11    K\n",
      "12    S\n",
      "dtype: object\n"
     ]
    }
   ],
   "source": [
    "# import pandas as pd \n",
    "import pandas as pd \n",
    "  \n",
    "# simple list \n",
    "lst = ['G','E','E','K','S','F', \n",
    "       'O','R','G','E','E','K','S'] \n",
    "  \n",
    "# forming series \n",
    "s = pd.Series(lst) \n",
    "  \n",
    "# output \n",
    "print(s)"
   ]
  },
  {
   "cell_type": "code",
   "execution_count": 4,
   "metadata": {},
   "outputs": [
    {
     "data": {
      "text/html": [
       "<div>\n",
       "<style scoped>\n",
       "    .dataframe tbody tr th:only-of-type {\n",
       "        vertical-align: middle;\n",
       "    }\n",
       "\n",
       "    .dataframe tbody tr th {\n",
       "        vertical-align: top;\n",
       "    }\n",
       "\n",
       "    .dataframe thead th {\n",
       "        text-align: right;\n",
       "    }\n",
       "</style>\n",
       "<table border=\"1\" class=\"dataframe\">\n",
       "  <thead>\n",
       "    <tr style=\"text-align: right;\">\n",
       "      <th></th>\n",
       "      <th>Roll Number</th>\n",
       "      <th>Name</th>\n",
       "      <th>Marks In Percentage</th>\n",
       "      <th>Grade</th>\n",
       "      <th>Subject</th>\n",
       "    </tr>\n",
       "  </thead>\n",
       "  <tbody>\n",
       "    <tr>\n",
       "      <th>0</th>\n",
       "      <td>30CSE29</td>\n",
       "      <td>Aryan</td>\n",
       "      <td>94</td>\n",
       "      <td>A</td>\n",
       "      <td>Physics</td>\n",
       "    </tr>\n",
       "    <tr>\n",
       "      <th>1</th>\n",
       "      <td>24CSE49</td>\n",
       "      <td>Samiksha</td>\n",
       "      <td>90</td>\n",
       "      <td>A</td>\n",
       "      <td>Physics</td>\n",
       "    </tr>\n",
       "    <tr>\n",
       "      <th>2</th>\n",
       "      <td>28CSE36</td>\n",
       "      <td>Dean</td>\n",
       "      <td>70</td>\n",
       "      <td>B</td>\n",
       "      <td>Physics</td>\n",
       "    </tr>\n",
       "    <tr>\n",
       "      <th>3</th>\n",
       "      <td>29CSE44</td>\n",
       "      <td>Kumud</td>\n",
       "      <td>52</td>\n",
       "      <td>C</td>\n",
       "      <td>Physics</td>\n",
       "    </tr>\n",
       "  </tbody>\n",
       "</table>\n",
       "</div>"
      ],
      "text/plain": [
       "  Roll Number      Name  Marks In Percentage Grade  Subject\n",
       "0     30CSE29     Aryan                   94     A  Physics\n",
       "1     24CSE49  Samiksha                   90     A  Physics\n",
       "2     28CSE36      Dean                   70     B  Physics\n",
       "3     29CSE44     Kumud                   52     C  Physics"
      ]
     },
     "execution_count": 4,
     "metadata": {},
     "output_type": "execute_result"
    }
   ],
   "source": [
    "import pandas as pd \n",
    "  \n",
    "  \n",
    "# Creating the dataframe df \n",
    "df = pd.DataFrame({'Roll Number': ['30CSE29', '24CSE49', '28CSE36', '29CSE44'], \n",
    "                   'Name': ['Aryan', 'Samiksha', 'Dean', 'Kumud'], \n",
    "                   'Marks In Percentage': [94, 90, 70, 52], \n",
    "                   'Grade': ['A', 'A', 'B', 'C'], \n",
    "                   'Subject': ['Physics', 'Physics', 'Physics', 'Physics']}) \n",
    "  \n",
    "# Printing the dataframe \n",
    "df"
   ]
  },
  {
   "cell_type": "code",
   "execution_count": 8,
   "metadata": {},
   "outputs": [
    {
     "ename": "SyntaxError",
     "evalue": "invalid syntax (<ipython-input-8-4a68cb6f94a1>, line 1)",
     "output_type": "error",
     "traceback": [
      "\u001b[1;36m  File \u001b[1;32m\"<ipython-input-8-4a68cb6f94a1>\"\u001b[1;36m, line \u001b[1;32m1\u001b[0m\n\u001b[1;33m    In[4]: import numpy as np\u001b[0m\n\u001b[1;37m           ^\u001b[0m\n\u001b[1;31mSyntaxError\u001b[0m\u001b[1;31m:\u001b[0m invalid syntax\n"
     ]
    }
   ],
   "source": [
    "In[4]: import numpy as np\n",
    "       x = np.linspace(0, 10, 100)\n",
    "\n",
    "       fig = plt.figure()\n",
    "       plt.plot(x, np.sin(x), '-')\n",
    "       plt.plot(x, np.cos(x), '--');"
   ]
  },
  {
   "cell_type": "code",
   "execution_count": 9,
   "metadata": {},
   "outputs": [
    {
     "ename": "SyntaxError",
     "evalue": "invalid syntax (<ipython-input-9-c8ca2e636f90>, line 11)",
     "output_type": "error",
     "traceback": [
      "\u001b[1;36m  File \u001b[1;32m\"<ipython-input-9-c8ca2e636f90>\"\u001b[1;36m, line \u001b[1;32m11\u001b[0m\n\u001b[1;33m    print(\"Check Brand in rate column:\\n\")\u001b[0m\n\u001b[1;37m    ^\u001b[0m\n\u001b[1;31mSyntaxError\u001b[0m\u001b[1;31m:\u001b[0m invalid syntax\n"
     ]
    }
   ],
   "source": [
    "import pandas as pd \n",
    "  \n",
    "# Creating the dataframe with dict of lists \n",
    "df = pd.DataFrame({'Name': ['Alto', 'Indigo', 'BMW', 'Mercedes'], \n",
    "                   'Brand': ['Tata Motors', 'Tata Motors', 'US', 'US',],\n",
    "                   'Sign': ['A', 'I', 'BMW', 'Horse',], \n",
    "                   'Rate': [500000,500000,10000000,20000000]}, \n",
    "                   \n",
    "print(df, \"\\n\") \n",
    "  \n",
    "print(\"Check Brand in rate column:\\n\") \n",
    "df1 = df['Brand'].str.contains(\"Rate\") \n",
    "print(df1) "
   ]
  },
  {
   "cell_type": "code",
   "execution_count": null,
   "metadata": {},
   "outputs": [],
   "source": []
  }
 ],
 "metadata": {
  "kernelspec": {
   "display_name": "Python 3",
   "language": "python",
   "name": "python3"
  },
  "language_info": {
   "codemirror_mode": {
    "name": "ipython",
    "version": 3
   },
   "file_extension": ".py",
   "mimetype": "text/x-python",
   "name": "python",
   "nbconvert_exporter": "python",
   "pygments_lexer": "ipython3",
   "version": "3.8.3"
  }
 },
 "nbformat": 4,
 "nbformat_minor": 4
}
